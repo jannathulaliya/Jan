 {
 "cells": [
  {
   "cell_type": "code",
   "execution_count": 26,
   "id": "85e5ea40-37aa-4bed-9eba-131d926aafab",
   "metadata": {},
   "outputs": [
    {
     "name": "stdout",
     "output_type": "stream",
     "text": [
      "my weekly_budget is Rs.200,and i spent Rs.45.50 on groceries\n"
     ]
    }
   ],
   "source": [
    "weekly_budget = 200\n",
    "recent_budget = 45.50\n",
    "purchase_category = (\"groceries\")\n",
    "print(\"my weekly_budget is Rs.200,and i spent Rs.45.50 on groceries\")"
   ]
  },
  {
   "cell_type": "code",
   "execution_count": 36,
   "id": "822e045d-5ddc-46e4-b397-3de0caeebd1f",
   "metadata": {},
   "outputs": [
    {
     "name": "stdout",
     "output_type": "stream",
     "text": [
      "day 1 the expense is 10\n",
      "day 2 the expense is 12\n",
      "day 3 the expense is 14\n",
      "day 4 the expense is 16\n",
      "day 5 the expense is 18\n"
     ]
    }
   ],
   "source": [
    "# mantatory expense\n",
    "expense = 10 \n",
    "for i in range(1,6):\n",
    "   print(\"day\",i,\"the expense is\",expense)\n",
    "   expense+=2"
   ]
  },
  {
   "cell_type": "code",
   "execution_count": 37,
   "id": "1f2d4acd-ccb1-4f46-b8e6-59aad0943342",
   "metadata": {},
   "outputs": [
    {
     "name": "stdout",
     "output_type": "stream",
     "text": [
      "affordable\n"
     ]
    }
   ],
   "source": [
    "weekly_budget = 200\n",
    "purchase_amount = 30 \n",
    "if(weekly_budget>=purchase_amount):\n",
    "    print(\"affordable\")\n",
    "else:\n",
    "    print(\"over budget\")\n"
   ]
  },
  {
   "cell_type": "code",
   "execution_count": 40,
   "id": "09c5934b-bfe5-4b84-87c9-29b7168793f6",
   "metadata": {},
   "outputs": [
    {
     "name": "stdout",
     "output_type": "stream",
     "text": [
      "the total expense with tax is 48.6\n"
     ]
    }
   ],
   "source": [
    "def add_tax(expence,tax_rate):\n",
    "    total=sum(expenses)\n",
    "    total_with_tax=total+(total*tax_rate/100)\n",
    "    print(\"the total expense with tax is\",total_with_tax)\n",
    "expenses=[20,15,10]\n",
    "tax_rate=8\n",
    "add_tax(expenses,tax_rate)"
   ]
  },
  {
   "cell_type": "code",
   "execution_count": 49,
   "id": "8fcf3a89-8da2-49aa-b5ce-057249a92304",
   "metadata": {},
   "outputs": [
    {
     "name": "stdout",
     "output_type": "stream",
     "text": [
      "within budget\n"
     ]
    }
   ],
   "source": [
    "def check_budget(purchase,limit):\n",
    "    purchase_sum=sum(purchase)\n",
    "    expense_amt=purchase_sum-limit\n",
    "    if purchase_sum<=limit:\n",
    "        print(\"within budget\")\n",
    "    else:\n",
    "        print(\"warning:within rs.\",purchase_sum,\"of limit\")\n",
    "        print(\"over budget by rs.\",expense_amt)\n",
    "purchase=[50,30,10]\n",
    "limit=200\n",
    "check_budget(purchase,limit)"
   ]
  },
  {
   "cell_type": "code",
   "execution_count": null,
   "id": "f0f0501d-ecc3-4eba-accb-13d4d92bfcc3",
   "metadata": {},
   "outputs": [],
   "source": []
  }
 ],
 "metadata": {
  "kernelspec": {
   "display_name": "Python [conda env:base] *",
   "language": "python",
   "name": "conda-base-py"
  },
  "language_info": {
   "codemirror_mode": {
    "name": "ipython",
    "version": 3
   },
   "file_extension": ".py",
   "mimetype": "text/x-python",
   "name": "python",
   "nbconvert_exporter": "python",
   "pygments_lexer": "ipython3",
   "version": "3.12.7"
  }
 },
 "nbformat": 4,
 "nbformat_minor": 5
}
